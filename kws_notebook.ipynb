{
 "cells": [
  {
   "cell_type": "markdown",
   "id": "e0f74424",
   "metadata": {
    "cellId": "sf8tk02tidczprsvmaexzi",
    "execution_id": "8a2f283a-781c-42ce-90f4-90c804042d1c"
   },
   "source": [
    "# DLA homework II. KWS model\n",
    "*Project was accomplished by Andrey Borevsky*\n",
    "\n",
    "----\n",
    "\n",
    "## Ist part. Seminar prerequisites\n",
    "\n",
    ">In this section we mostly construct our future working process via importing external and internal code materials. The former was taken almost in pure form from the seminar. However, the latter was mostly produced by the author based on particular materials devoted to the implemented algorithms. \n",
    "\n",
    "### 1. External libraries"
   ]
  },
  {
   "cell_type": "code",
   "execution_count": 1,
   "id": "92d8ce02",
   "metadata": {
    "cellId": "peaey9tedfov0ygmcv2vta"
   },
   "outputs": [],
   "source": [
    "from typing import Tuple, Union, List, Callable, Optional\n",
    "from tqdm import tqdm\n",
    "from itertools import islice\n",
    "import pathlib\n",
    "import dataclasses\n",
    "import logging\n",
    "\n",
    "import numpy as np\n",
    "import pandas as pd\n",
    "\n",
    "import torch\n",
    "import torch.nn.functional as F\n",
    "from torch import nn\n",
    "from torch import distributions\n",
    "from torch.optim import lr_scheduler\n",
    "from torch.utils.data import DataLoader, Dataset, WeightedRandomSampler\n",
    "from torch.nn.utils.rnn import pad_sequence\n",
    "\n",
    "import torchaudio\n",
    "from IPython import display as display_\n",
    "import warnings \n",
    "import random\n",
    "import os\n",
    "warnings.filterwarnings('ignore')\n",
    "\n",
    "from collections import defaultdict\n",
    "from IPython.display import clear_output\n",
    "from matplotlib import pyplot as plt\n",
    "import logging.config\n",
    "from thop import profile"
   ]
  },
  {
   "cell_type": "markdown",
   "id": "01f6e6de",
   "metadata": {
    "cellId": "0nrjlsvdzepx4zb51fz04",
    "execution_id": "a7f82f2b-e6dd-4752-b114-5c08c1b00182"
   },
   "source": [
    "### 2. Seminar prerequisites"
   ]
  },
  {
   "cell_type": "code",
   "execution_count": 2,
   "id": "dc4eabdc",
   "metadata": {},
   "outputs": [],
   "source": [
    "from seminar import count_FA_FR, get_au_fa_fr, get_size_in_megabytes\n",
    "from seminar import SpeechCommandDataset, AugsCreation, get_sampler, Collator\n",
    "from seminar import LogMelspec, TaskConfig"
   ]
  },
  {
   "cell_type": "markdown",
   "id": "2bb18b21",
   "metadata": {},
   "source": [
    "### 3. Introduced materials"
   ]
  },
  {
   "cell_type": "code",
   "execution_count": 793,
   "id": "e011e116",
   "metadata": {},
   "outputs": [],
   "source": [
    "from utils import set_random_seed, seed_everything, read_json, create_log"
   ]
  },
  {
   "cell_type": "markdown",
   "id": "566e116c",
   "metadata": {
    "cellId": "7hu9kbw4ugmmc70k53dpf",
    "execution_id": "2c1795ce-58ee-41bf-b1ca-2cfffa2e962e"
   },
   "source": [
    "### 4. Pipeline establishment\n",
    "\n",
    "> Let's firstly create a dataset following the seminar's architecture. We also want to fix the seed in order to ensure the reproducibility."
   ]
  },
  {
   "cell_type": "code",
   "execution_count": 4,
   "id": "b13eea5b",
   "metadata": {
    "cellId": "v1oqkwawhwlggq7y62yxxg"
   },
   "outputs": [],
   "source": [
    "set_random_seed(0)\n",
    "\n",
    "dataset = SpeechCommandDataset(path2dir='speech_commands', keywords=TaskConfig.keyword)"
   ]
  },
  {
   "cell_type": "markdown",
   "id": "10b6edb0",
   "metadata": {
    "cellId": "2wf88p5jo02oe9shi1iyxm",
    "execution_id": "0d9b73a9-f618-4764-a35e-c5e8e87db72c"
   },
   "source": [
    "> Next, we create training and validation dataframes, further transmitted to the dataset class itself."
   ]
  },
  {
   "cell_type": "code",
   "execution_count": 5,
   "id": "09a14359",
   "metadata": {
    "cellId": "hhrl3799usrep5yuv1b3r8"
   },
   "outputs": [],
   "source": [
    "indexes = torch.randperm(len(dataset))\n",
    "train_indexes = indexes[:int(len(dataset) * 0.8)]\n",
    "val_indexes = indexes[int(len(dataset) * 0.8):]\n",
    "\n",
    "train_df = dataset.csv.iloc[train_indexes].reset_index(drop=True)\n",
    "val_df = dataset.csv.iloc[val_indexes].reset_index(drop=True)\n",
    "\n",
    "train_set = SpeechCommandDataset(csv=train_df, transform=AugsCreation())\n",
    "val_set = SpeechCommandDataset(csv=val_df)"
   ]
  },
  {
   "cell_type": "markdown",
   "id": "c8189386",
   "metadata": {
    "cellId": "7ak7b4l7x5a9nm7ab4p1ta",
    "execution_id": "561a7af8-da33-4dbf-a206-06af9bb9013d"
   },
   "source": [
    "> Then, Dataloaders structure of torch library is introduced with a help of seminar's get_sampler method."
   ]
  },
  {
   "cell_type": "code",
   "execution_count": 7,
   "id": "57ae3af0",
   "metadata": {
    "cellId": "zjuzmz8uvmberotim2j7t"
   },
   "outputs": [],
   "source": [
    "train_sampler = get_sampler(train_set.csv['label'].values)\n",
    "\n",
    "train_loader = DataLoader(train_set, batch_size=TaskConfig.batch_size,\n",
    "                          shuffle=False, collate_fn=Collator(),\n",
    "                          sampler=train_sampler,pin_memory=True)\n",
    "\n",
    "val_loader = DataLoader(val_set, batch_size=TaskConfig.batch_size,\n",
    "                        shuffle=False, collate_fn=Collator(), pin_memory=True)"
   ]
  },
  {
   "cell_type": "markdown",
   "id": "e2a0a329",
   "metadata": {
    "cellId": "9gdbjd4802ex5qvikbibu",
    "execution_id": "3c318882-dbae-433c-aa55-f910a9396294"
   },
   "source": [
    "> Also, it is vital to define two separate classes, transforming sound waves to spectrograms of values' logarithms. While the training LogMelspec implements certain transformations, the validation one does not."
   ]
  },
  {
   "cell_type": "code",
   "execution_count": 8,
   "id": "761e4a0b",
   "metadata": {
    "cellId": "n35c8wa64qae4qu5aieg"
   },
   "outputs": [],
   "source": [
    "melspec_train = LogMelspec(is_train=True, config=TaskConfig)\n",
    "melspec_val = LogMelspec(is_train=False, config=TaskConfig)"
   ]
  },
  {
   "cell_type": "markdown",
   "id": "02cc6d90",
   "metadata": {
    "cellId": "dutppy4imta4bifmufenp4",
    "execution_id": "cffa5402-1aae-4d3b-b581-cc67efd06852"
   },
   "source": [
    "## IInd part. CRNN structure & Train functions\n",
    "\n",
    "### 1. Appearance of model\n",
    "\n",
    "> It seems rational to give a brief review of prime CRNN model's renewals. So, first to start is, of course, the introduction of separate \"script story\". It is marked by flag `self.qat` and generally designed for the Quantization-Aware Training embodiement withing the created network. The script itself contains Quant-Dequant pair, responsible for turning quantization on and off respectively. Also there is a special `qconfig` attribute, standing fpr quantization configuration, required for the `torch.quantization` library. We have also separated convolutional layer and flattening module in order to make a chain: Quant - Conv - ReLU - Dequant - Flatten.\n",
    "\n",
    "> Another point to be added clarifies `mode` flag. Basically, there are three potential scripts:\n",
    ">    1. **'base'** - a base/teacher model\n",
    ">    \n",
    ">    2. **'rnn'**  - a student model, using RNN and expanding it for KD\n",
    ">    \n",
    ">    3. **'gru'**  -  a student model, using GRU (as in seminar's code) and expanding it for KD\n",
    ">\n",
    ">    4.**'light** - a student model, using GRU\n",
    "> In case of not base mode, we must introduce auxillary fully-connected layers for synchronization of teacher's and student's output tensors' shapes.\n",
    "\n",
    "> Considering the QAT script, we have added several `if` options within the `forward` method. We also basically return three tensors: output of gru / rnn, output of attention and resulting output. It also important to underscore the fact that we use double expanding of student's tensor in case of **'rnn'** method. Since both dimensions do not coincide after `GRU` / `RNN` because of convolution, it is the most practical step found. Sure, all the additional 'expanding' layers are removed for final assessment and are not presented in KWS class instance."
   ]
  },
  {
   "cell_type": "code",
   "execution_count": 708,
   "id": "419bd506",
   "metadata": {
    "cellId": "0f69c2rqstksidr46o1efh"
   },
   "outputs": [],
   "source": [
    "class Attention(nn.Module):\n",
    "\n",
    "    def __init__(self, hidden_size: int):\n",
    "        super().__init__()\n",
    "\n",
    "        self.energy = nn.Sequential(\n",
    "            nn.Linear(hidden_size, hidden_size),\n",
    "            nn.Tanh(),\n",
    "            nn.Linear(hidden_size, 1)\n",
    "        )\n",
    "    \n",
    "    def forward(self, input):\n",
    "        energy = self.energy(input)\n",
    "        alpha = torch.softmax(energy, dim=-2)\n",
    "        return (input * alpha).sum(dim=-2)\n",
    "\n",
    "class CRNN(nn.Module):\n",
    "\n",
    "    def __init__(self, config: TaskConfig, mode='base', qat=False):\n",
    "        super().__init__()\n",
    "        self.config = config\n",
    "        self.mode = mode\n",
    "        self.qat = qat\n",
    "        \n",
    "        if self.qat:\n",
    "            self.quant = torch.quantization.QuantStub()\n",
    "            self.activation = nn.ReLU()\n",
    "            self.qconfig = None\n",
    "\n",
    "        self.conv = torch.nn.Conv2d(\n",
    "                in_channels=1, out_channels=config.cnn_out_channels,\n",
    "                kernel_size=config.kernel_size, stride=config.stride\n",
    "            )\n",
    "        \n",
    "        if self.qat:\n",
    "            self.dequant = torch.quantization.DeQuantStub()\n",
    "        \n",
    "        self.flatten = nn.Flatten(start_dim=1, end_dim=2)\n",
    "\n",
    "        self.conv_out_frequency = (config.n_mels - config.kernel_size[0]) // \\\n",
    "            config.stride[0] + 1\n",
    "        \n",
    "        if self.mode == 'rnn':\n",
    "            self.gru = nn.RNN(\n",
    "                input_size=self.conv_out_frequency * config.cnn_out_channels,\n",
    "                hidden_size=config.hidden_size,\n",
    "                num_layers=config.gru_num_layers,\n",
    "                dropout=0.1,\n",
    "                bidirectional=config.bidirectional,\n",
    "                batch_first=True\n",
    "            )\n",
    "            \n",
    "        else:\n",
    "            self.gru = nn.GRU(\n",
    "                input_size=self.conv_out_frequency * config.cnn_out_channels,\n",
    "                hidden_size=config.hidden_size,\n",
    "                num_layers=config.gru_num_layers,\n",
    "                dropout=0.1,\n",
    "                bidirectional=config.bidirectional,\n",
    "                batch_first=True\n",
    "            )\n",
    "\n",
    "        self.attention = Attention(config.hidden_size)\n",
    "        self.classifier = nn.Linear(config.hidden_size, config.num_classes)\n",
    "        \n",
    "        if self.mode != 'base': \n",
    "            self.equalizer = nn.Linear(config.hidden_size, 32)\n",
    "            if self.mode != 'light': \n",
    "                self.equalizer_rnn_1 = nn.Linear(config.hidden_size, 32)\n",
    "                self.equalizer_rnn_2 = nn.Linear(7, 11)\n",
    "    \n",
    "    def forward(self, input):\n",
    "        input = input.unsqueeze(dim=1)\n",
    "        if self.qat: \n",
    "            input = self.quant(input)\n",
    "        conv_output = self.conv(input)\n",
    "        if self.qat:\n",
    "            conv_output = self.dequant(self.activation(conv_output))\n",
    "        flat_output = self.flatten(conv_output).transpose(-1, -2)\n",
    "        gru_output, _ = self.gru(flat_output)\n",
    "        contex_vector = self.attention(gru_output)\n",
    "        output = self.classifier(contex_vector)\n",
    "        if self.mode != 'base' and self.training:\n",
    "            contex_vector = self.equalizer(contex_vector)\n",
    "            if self.mode != 'light':\n",
    "                gru_output = self.equalizer_rnn_1(gru_output)\n",
    "                gru_output = self.equalizer_rnn_2(gru_output.transpose(1, 2)).transpose(1, 2)\n",
    "            return output, contex_vector, gru_output\n",
    "        return output\n"
   ]
  },
  {
   "cell_type": "markdown",
   "id": "8dcea4a9",
   "metadata": {
    "cellId": "pnf3t9kh68pz0k9c8ivoxc",
    "execution_id": "23749221-19d9-47f2-bba5-f9d429c04424"
   },
   "source": [
    "### 2. Training path\n",
    "\n",
    "> `train` - this is a new brand new function for the seminar learner, but is was initially similar to the train loop within the explored notebook. Now, we have a special function `make_qat`, being called at the first steps only in case if `model.qat` flag is positive. What it does is simply introducing QAT observers on all layers between Quant and Dequant, described earlier. After such a nice foreplay, we meet the core of our function, which is mostly identical to its ancestor in the key steps: `train_epoch` - `validation` - `graphs`. However, there is a slight difference, again having roots in the QAT case. If model's flag is up, then we need to apply a special convert function to step from `torch.float32` to `torch.qint8`.\n",
    "\n",
    ">`train_epoch` is familar to us from seminar's notebook. It has preserved its core objectives. At the same time, there is a number of modifications. First of all, we now collect three values from the model (output, attention, rnn). Then our scripts diversify with accordance to `mode` parameter:\n",
    ">\n",
    ">    1.**'base'** - we cool, simple training loop as if we worked with initial code (cannot be used with other modes).\n",
    ">\n",
    ">    2.**'dark kd'** - we implement a KD for the models' outputs. \n",
    ">\n",
    ">    3.**'attention'** - we implement a KD for the attention layers' outputs. \n",
    ">\n",
    ">    4.**'gru'** - we implement a KD for the rnn layers' outputs. \n",
    ">\n",
    "> Last to add here is that teachers' outputs are calculated only in case if `mode != 'base`. Also, each KD case implies a dict of hyperparameters (temperature and alpha). We have additionally introduced double scheduler scheme, where the first is updated each iteration and another - each epoch. The threshold is given explicitly.\n",
    "\n",
    ">We finally reached end of the path - `validation` function. Here might be performed another great tool of compression at the very beginning of the call. What we mean is dynamic quantization. It is applied for all layers except the convolutional and the expanding ones. There are two options: convert to `torch.float16` & `torch.qint8`. The choice is made according to the provided hyperparameter. As quantization passed, the rest of the code is resemble to the origins."
   ]
  },
  {
   "cell_type": "code",
   "execution_count": 437,
   "id": "f77a0fac",
   "metadata": {
    "cellId": "nngysg5smnohm1lrqdge9q"
   },
   "outputs": [],
   "source": [
    "def train_epoch(model, opt, loader, log_melspec, device, \n",
    "                scheduler=None, mode={'base': None}, bm=None, n_epoch=None):\n",
    "    model.train()\n",
    "    accs = []\n",
    "    all_probs, all_labels = [], []\n",
    "    for i, (batch, labels) in tqdm(enumerate(loader), total=len(loader)):\n",
    "        loss = 0\n",
    "        batch, labels = batch.to(device), labels.to(device)\n",
    "        batch = log_melspec(batch)\n",
    "\n",
    "        opt.zero_grad()\n",
    "\n",
    "        logits, attention, rnn = model(batch)\n",
    "        probs = F.softmax(logits, dim=-1)\n",
    "        \n",
    "        if 'base' in mode.keys():\n",
    "            loss = F.cross_entropy(logits, labels)\n",
    "        else:\n",
    "            with torch.no_grad(): \n",
    "                teacher_logits, teacher_attention, teacher_rnn = bm(batch)\n",
    "            if 'attention' in mode.keys():   \n",
    "                T = mode['attention']['T']\n",
    "                alpha = mode['attention']['alpha']\n",
    "                loss += nn.KLDivLoss()(F.softmax(attention/T, dim=-1),\n",
    "                                       F.softmax(teacher_attention/T, dim=-1)) * (alpha * T * T)\n",
    "            if 'gru' in mode.keys():   \n",
    "                T = mode['gru']['T']\n",
    "                alpha = mode['gru']['alpha']\n",
    "                loss += nn.KLDivLoss()(F.softmax(rnn/T, dim=-1),\n",
    "                                       F.softmax(teacher_rnn/T, dim=-1)) * (alpha * T * T)\n",
    "            if 'dark kd' in mode.keys():\n",
    "                T = mode['dark kd']['T']\n",
    "                alpha = mode['dark kd']['alpha']\n",
    "                loss += nn.KLDivLoss()(F.softmax(logits/T, dim=-1),\n",
    "                                       F.softmax(teacher_logits/T, dim=-1)) * (alpha * T * T) + \\\n",
    "                                       F.cross_entropy(logits, labels) * (1. - alpha)\n",
    "        loss.backward()\n",
    "        torch.nn.utils.clip_grad_norm_(model.parameters(), 5)\n",
    "        if scheduler is not None and n_epoch <= scheduler[2]:\n",
    "            scheduler[0].step()\n",
    "\n",
    "        opt.step()\n",
    "\n",
    "        argmax_probs = torch.argmax(probs, dim=-1)\n",
    "        all_probs.append(probs[:, 1].cpu())\n",
    "        all_labels.append(labels.cpu())\n",
    "        FA, FR = count_FA_FR(argmax_probs, labels)\n",
    "        accs.append((torch.sum(argmax_probs == labels) / torch.numel(argmax_probs)).item())\n",
    "        \n",
    "    return np.mean(accs)"
   ]
  },
  {
   "cell_type": "code",
   "execution_count": 803,
   "id": "c2806cfe",
   "metadata": {
    "cellId": "ibm803m4fzepvjp7xien7j"
   },
   "outputs": [],
   "source": [
    "@torch.no_grad()\n",
    "def validation(model, loader, log_melspec, device, mode={'base': None}):\n",
    "    model.eval()\n",
    "    if 'post_quant' in mode.keys():\n",
    "        qconfig = torch.quantization.per_channel_dynamic_qconfig\n",
    "        qconfig_dict = dict.fromkeys(['attention', 'classifier', 'gru'], qconfig)\n",
    "        if mode['post_quant']['dtype'] == 8:\n",
    "            val_model = torch.quantization.quantize_dynamic(model, qconfig_spec=qconfig_dict, \n",
    "                                                            dtype=torch.quint8)\n",
    "        elif mode['post_quant']['dtype'] == 16:\n",
    "            val_model = torch.quantization.quantize_dynamic(model, qconfig_spec=qconfig_dict,\n",
    "                                                            dtype=torch.float16)\n",
    "    else:\n",
    "        val_model = model\n",
    "\n",
    "    val_losses, accs, FAs, FRs = [], [], [], []\n",
    "    all_probs, all_labels = [], []\n",
    "    for i, (batch, labels) in tqdm(enumerate(loader), total=len(loader)):\n",
    "        batch, labels = batch.to(device), labels.to(device)\n",
    "        batch = log_melspec(batch)\n",
    "\n",
    "        output = val_model(batch)\n",
    "\n",
    "        probs = F.softmax(output, dim=-1)\n",
    "        loss = F.cross_entropy(output, labels)\n",
    "\n",
    "\n",
    "        argmax_probs = torch.argmax(probs, dim=-1)\n",
    "        all_probs.append(probs[:, 1].cpu())\n",
    "        all_labels.append(labels.cpu())\n",
    "        val_losses.append(loss.item())\n",
    "        accs.append(\n",
    "            torch.sum(argmax_probs == labels).item() /  # ???\n",
    "            torch.numel(argmax_probs)\n",
    "        )\n",
    "        FA, FR = count_FA_FR(argmax_probs, labels)\n",
    "        FAs.append(FA)\n",
    "        FRs.append(FR)\n",
    "\n",
    "    au_fa_fr = get_au_fa_fr(torch.cat(all_probs, dim=0).cpu(), all_labels)\n",
    "    return au_fa_fr"
   ]
  },
  {
   "cell_type": "code",
   "execution_count": 514,
   "id": "0b8ce093",
   "metadata": {
    "cellId": "c1g8ko6wjvzzv2hi3tuo"
   },
   "outputs": [],
   "source": [
    "def make_qat(model):\n",
    "    qconfig = torch.quantization.get_default_qat_qconfig('fbgemm')\n",
    "    #model = torch.quantization.fuse_modules(model, [['conv', 'activation']])\n",
    "    model.qconfig = qconfig\n",
    "    model.attention.qconfig = None\n",
    "    model.gru.qconfig = None\n",
    "    model.classifier.qconfig = None\n",
    "    if hasattr(model, 'equalizer'): model.equalizer.qconfig = None\n",
    "    if hasattr(model, 'equalizer_rnn_1'):\n",
    "        model.equalizer_rnn_1.qconfig = None\n",
    "        model.equalizer_rnn_2.qconfig = None\n",
    "    torch.quantization.prepare_qat(model, inplace=True)\n",
    "\n",
    "def train(model, opt, config, epochs, history, logger, bm=None, scheduler=None, mode={'base':None}):\n",
    "    \n",
    "    if model.qat:\n",
    "        make_qat(model)\n",
    "        logger.info('Quantization Aware training enabled')\n",
    "        \n",
    "    start = time.time()\n",
    "    val_model = None\n",
    "    for n in range(epochs):\n",
    "        history['lrs'].append(opt.param_groups[0]['lr'])\n",
    "        logger.info('Epoch {0} starts'.format(n+1))\n",
    "        acc = train_epoch(model, opt, train_loader,\n",
    "                    melspec_train, config.device, scheduler, mode, bm, n_epoch=n)\n",
    "        if model.qat:\n",
    "            val_model = torch.quantization.convert(model, inplace=False)\n",
    "        else:\n",
    "            val_model = model\n",
    "        \n",
    "        au_fa_fr = validation(val_model, val_loader,\n",
    "                              melspec_val, base_config.device, mode)\n",
    "        clear_output()\n",
    "        if scheduler is not None and epochs > scheduler[2]:\n",
    "            scheduler[1].step(au_fa_fr)\n",
    "        history['val_metric'].append(au_fa_fr)\n",
    "        history['acc'].append(acc)\n",
    "        \n",
    "        plt.plot(history['val_metric'])\n",
    "        plt.ylabel('Metric')\n",
    "        plt.xlabel('Epoch')\n",
    "        plt.title('After {0} epochs'.format(n+1))\n",
    "        plt.grid()\n",
    "        plt.show()\n",
    "        plt.plot(history['lrs'])\n",
    "        plt.ylabel('Metric')\n",
    "        plt.xlabel('Epoch')\n",
    "        plt.title('After {0} epochs'.format(n+1))\n",
    "        plt.grid()\n",
    "        plt.show()\n",
    "        logger.info('Metric value {0}'.format(np.round(au_fa_fr, 6)))\n",
    "        if au_fa_fr <= 5.5e-5: break\n",
    "    logger.info('Training has been accomplished for {0} minutes'.format(np.round((time.time() - start) / 60, 2)))\n",
    "    return val_model"
   ]
  },
  {
   "cell_type": "markdown",
   "id": "dbf0e072",
   "metadata": {
    "cellId": "qu1wi5sqewp0a1ot2oqk3y6",
    "execution_id": "8944904e-70c5-4929-a0a7-71d1ea839663"
   },
   "source": [
    "## IIIrd part. Teacher\n",
    "\n",
    "### 1. Base model initialization\n",
    "\n",
    "> Here everything looks like a repetition of steps from seminar with little inconsistence: we've added logger as we would do in all following experiments."
   ]
  },
  {
   "cell_type": "code",
   "execution_count": 47,
   "id": "645c7263",
   "metadata": {
    "cellId": "6dxi1klw5ex55qwilgvwi"
   },
   "outputs": [
    {
     "name": "stdout",
     "output_type": "stream",
     "text": [
      "CRNN(\n",
      "  (conv): Conv2d(1, 8, kernel_size=(5, 20), stride=(2, 8))\n",
      "  (flatten): Flatten(start_dim=1, end_dim=2)\n",
      "  (gru): GRU(144, 32, num_layers=2, batch_first=True, dropout=0.1)\n",
      "  (attention): Attention(\n",
      "    (energy): Sequential(\n",
      "      (0): Linear(in_features=32, out_features=32, bias=True)\n",
      "      (1): Tanh()\n",
      "      (2): Linear(in_features=32, out_features=1, bias=True)\n",
      "    )\n",
      "  )\n",
      "  (classifier): Linear(in_features=32, out_features=2, bias=True)\n",
      ")\n"
     ]
    }
   ],
   "source": [
    "base_history = defaultdict(list)\n",
    "log_dict = {'json' : 'logger_config.json', 'name' : 'base_model_qat'}\n",
    "base_logger = create_log(log_dict)\n",
    "base_config = TaskConfig(hidden_size=32)\n",
    "base_model = CRNN(base_config, qat=False).to(base_config.device)\n",
    "\n",
    "print(base_model)"
   ]
  },
  {
   "cell_type": "code",
   "execution_count": 48,
   "id": "3b5ceaf0",
   "metadata": {},
   "outputs": [
    {
     "name": "stdout",
     "output_type": "stream",
     "text": [
      "Base model № of parameters: 25387\n"
     ]
    }
   ],
   "source": [
    "mode = {'base':None}\n",
    "\n",
    "opt = torch.optim.Adam(\n",
    "    base_model.parameters(),\n",
    "    lr=base_config.learning_rate,\n",
    "    weight_decay=base_config.weight_decay\n",
    ")\n",
    "\n",
    "print('Base model № of parameters:', sum([p.numel() for p in base_model.parameters()]))"
   ]
  },
  {
   "cell_type": "markdown",
   "id": "f713f8d4",
   "metadata": {
    "cellId": "ui1cmvluy4caonwyb6gru",
    "execution_id": "adf805f2-e520-43f9-ae8c-75cf468e7c39"
   },
   "source": [
    "> This part appears already to be a shadow of past since `base_model` was once trained for a required quality and preserved as it is."
   ]
  },
  {
   "cell_type": "code",
   "execution_count": null,
   "id": "3e755618",
   "metadata": {
    "cellId": "mg5gpxstgs6qfws6f75td",
    "scrolled": false
   },
   "outputs": [],
   "source": [
    "#train(base_model, opt, base_config, TaskConfig.num_epochs, base_history, base_logger, scheduler=None, mode=mode)"
   ]
  },
  {
   "cell_type": "markdown",
   "id": "4640cfc9",
   "metadata": {
    "cellId": "rpbshbd0xh1oaxnupui2k",
    "execution_id": "41fee270-e637-4152-aaaf-a245263a85c6"
   },
   "source": [
    "> Here we reach an essential ramification of scripts: one goes for a classic `base_model` (2nd) and another for `base_model_qat`, meaning teacher, who also implements qauntization aware training for a better coherence with experiments impling QAT."
   ]
  },
  {
   "attachments": {
    "base_qat_tr.png": {
     "image/png": "[encoded data removed]"
    }
   },
   "cell_type": "markdown",
   "id": "0c68b0a8",
   "metadata": {},
   "source": [
    "![base_qat_tr.png](attachment:base_qat_tr.png)"
   ]
  },
  {
   "cell_type": "code",
   "execution_count": 137,
   "id": "bce199ed",
   "metadata": {
    "scrolled": true
   },
   "outputs": [
    {
     "name": "stdout",
     "output_type": "stream",
     "text": [
      "Quantization Aware training enabled\n",
      "Training has been accomplished for 0.0 minutes\n"
     ]
    },
    {
     "data": {
      "text/plain": [
       "<All keys matched successfully>"
      ]
     },
     "execution_count": 137,
     "metadata": {},
     "output_type": "execute_result"
    }
   ],
   "source": [
    "base_model_qat = CRNN(base_config, qat=True).to(base_config.device)\n",
    "train(base_model_qat, opt, base_config, 0, base_history, base_logger, scheduler=None, mode=mode)\n",
    "base_model_qat.load_state_dict(torch.load('base_model_qat'))\n",
    "print('Base model loss', validation(base_model_qat, val_loader, melspec_val, base_config.device))"
   ]
  },
  {
   "cell_type": "code",
   "execution_count": 49,
   "id": "41b9685f",
   "metadata": {
    "scrolled": true
   },
   "outputs": [
    {
     "data": {
      "text/plain": [
       "RecursiveScriptModule(\n",
       "  original_name=CRNN\n",
       "  (quant): RecursiveScriptModule(original_name=QuantStub)\n",
       "  (activation): RecursiveScriptModule(original_name=ReLU)\n",
       "  (conv): RecursiveScriptModule(original_name=Conv2d)\n",
       "  (dequant): RecursiveScriptModule(original_name=DeQuantStub)\n",
       "  (flatten): RecursiveScriptModule(original_name=Flatten)\n",
       "  (gru): RecursiveScriptModule(original_name=GRU)\n",
       "  (attention): RecursiveScriptModule(\n",
       "    original_name=Attention\n",
       "    (energy): RecursiveScriptModule(\n",
       "      original_name=Sequential\n",
       "      (0): RecursiveScriptModule(original_name=Linear)\n",
       "      (1): RecursiveScriptModule(original_name=Tanh)\n",
       "      (2): RecursiveScriptModule(original_name=Linear)\n",
       "    )\n",
       "  )\n",
       "  (classifier): RecursiveScriptModule(original_name=Linear)\n",
       ")"
      ]
     },
     "execution_count": 49,
     "metadata": {},
     "output_type": "execute_result"
    }
   ],
   "source": [
    "base_model_qat = torch.jit.load('base_model_qat.pt')\n",
    "base_model_qat.eval()"
   ]
  },
  {
   "cell_type": "code",
   "execution_count": 478,
   "id": "fd2c0cf6",
   "metadata": {},
   "outputs": [
    {
     "name": "stderr",
     "output_type": "stream",
     "text": [
      "100%|█████████████████████████████████████████| 102/102 [00:34<00:00,  2.98it/s]\n"
     ]
    },
    {
     "name": "stdout",
     "output_type": "stream",
     "text": [
      "Base model loss 1.5288856902833853e-05\n"
     ]
    }
   ],
   "source": [
    "print('Base model loss', validation(base_model_qat, val_loader, melspec_val, base_config.device))"
   ]
  },
  {
   "cell_type": "code",
   "execution_count": 333,
   "id": "32d5a324",
   "metadata": {},
   "outputs": [
    {
     "data": {
      "text/plain": [
       "CRNN(\n",
       "  (conv): Conv2d(1, 8, kernel_size=(5, 20), stride=(2, 8))\n",
       "  (flatten): Flatten(start_dim=1, end_dim=2)\n",
       "  (gru): GRU(144, 32, num_layers=2, batch_first=True, dropout=0.1)\n",
       "  (attention): Attention(\n",
       "    (energy): Sequential(\n",
       "      (0): Linear(in_features=32, out_features=32, bias=True)\n",
       "      (1): Tanh()\n",
       "      (2): Linear(in_features=32, out_features=1, bias=True)\n",
       "    )\n",
       "  )\n",
       "  (classifier): Linear(in_features=32, out_features=2, bias=True)\n",
       ")"
      ]
     },
     "execution_count": 333,
     "metadata": {},
     "output_type": "execute_result"
    }
   ],
   "source": [
    "template = torch.load('bbm', map_location=torch.device('cpu'))\n",
    "\n",
    "base_model = CRNN(base_config).to(base_config.device)\n",
    "base_model.load_state_dict(template)\n",
    "\n",
    "base_model.eval()"
   ]
  },
  {
   "cell_type": "code",
   "execution_count": 334,
   "id": "99ef5876",
   "metadata": {},
   "outputs": [
    {
     "name": "stderr",
     "output_type": "stream",
     "text": [
      "100%|█████████████████████████████████████████| 102/102 [00:35<00:00,  2.90it/s]\n"
     ]
    },
    {
     "name": "stdout",
     "output_type": "stream",
     "text": [
      "Base model loss 5.440016374950562e-05\n"
     ]
    }
   ],
   "source": [
    "print('Base model loss', validation(base_model, val_loader, melspec_val, base_config.device))"
   ]
  },
  {
   "cell_type": "markdown",
   "id": "60115eeb",
   "metadata": {
    "cellId": "bh2t6i2gyxjrbn948vdx9q",
    "execution_id": "7992b136-1f8c-439e-8f6e-a99c701142d1"
   },
   "source": [
    "# Speed & Compression\n",
    "\n",
    "## IVth part. Experiment \"Low and Everything\"\n",
    "\n",
    ">Idea, standing beyond the concept of this experiment, was quite straightforward: choose supreme tools after checking among all the suggested and combine them with low start (by number of parameters) student model. Of course, after several runs it was understood that the quality of teacher model should be as high as possible (strongly below 5e-5) in order to bolster the student.\n",
    ">\n",
    "> We present here a separate logger object named 'experiment one', `mode` dictionary, containing:\n",
    ">\n",
    "> 1. **Dark KD**: temperature 10, alpha 0.75\n",
    "> 2. **Attention KD**: temperature 10, alpha 0.45\n",
    "> 3. **Dynamic quantization**: qint8\n",
    "> 4. **QAT** comes from the model initialization\n",
    ">\n",
    "> Optimizer is set to Adam with starting learning rate eqial to 1e-3, while a pair of schedulers is also introduced (where the first is turned off by the threshold)."
   ]
  },
  {
   "cell_type": "code",
   "execution_count": 728,
   "id": "b54e4ef9",
   "metadata": {},
   "outputs": [],
   "source": [
    "quality_flops = []\n",
    "quality_mem = []"
   ]
  },
  {
   "cell_type": "code",
   "execution_count": 607,
   "id": "afdaeeee",
   "metadata": {},
   "outputs": [
    {
     "name": "stdout",
     "output_type": "stream",
     "text": [
      "Experiment model: CRNN(\n",
      "  (quant): QuantStub()\n",
      "  (activation): ReLU()\n",
      "  (conv): Conv2d(1, 4, kernel_size=(7, 18), stride=(5, 12))\n",
      "  (dequant): DeQuantStub()\n",
      "  (flatten): Flatten(start_dim=1, end_dim=2)\n",
      "  (gru): GRU(28, 18, batch_first=True, dropout=0.1)\n",
      "  (attention): Attention(\n",
      "    (energy): Sequential(\n",
      "      (0): Linear(in_features=18, out_features=18, bias=True)\n",
      "      (1): Tanh()\n",
      "      (2): Linear(in_features=18, out_features=1, bias=True)\n",
      "    )\n",
      "  )\n",
      "  (classifier): Linear(in_features=18, out_features=2, bias=True)\n",
      "  (equalizer): Linear(in_features=18, out_features=32, bias=True)\n",
      "  (equalizer_rnn_1): Linear(in_features=18, out_features=32, bias=True)\n",
      "  (equalizer_rnn_2): Linear(in_features=7, out_features=11, bias=True)\n",
      ")\n"
     ]
    }
   ],
   "source": [
    "config = TaskConfig(hidden_size=18, cnn_out_channels=4, kernel_size=(7, 18), stride=(5, 12), gru_num_layers=1)\n",
    "model = CRNN(config, mode='gru', qat=True).to(config.device)\n",
    "\n",
    "exp_log_dict = {'json' : 'logger_config.json', 'name' : 'experiment_one'}\n",
    "exp_logger = create_log(exp_log_dict)\n",
    "\n",
    "exp_logger.info('Experiment model: {0}'.format(model))"
   ]
  },
  {
   "cell_type": "code",
   "execution_count": 609,
   "id": "43a928e0",
   "metadata": {},
   "outputs": [],
   "source": [
    "opt = torch.optim.Adam(\n",
    "    model.parameters(),\n",
    "    lr=0.0007,\n",
    "    weight_decay=config.weight_decay\n",
    ")\n",
    "\n",
    "mode = {\n",
    "    'dark kd'   : {'T' : 10, 'alpha' : 0.75}, \n",
    "    'attention' : {'T' : 10, 'alpha' : 0.45},\n",
    "    'post_quant': {'dtype' : 8}\n",
    "}\n",
    "history = defaultdict(list)"
   ]
  },
  {
   "cell_type": "markdown",
   "id": "cf55090e",
   "metadata": {
    "cellId": "hkqu2llbmf78jmr0frpfpm",
    "execution_id": "5be7c0f7-1e7a-42d8-a94a-967264431a26"
   },
   "source": [
    "> We must assess the **speed rate** before the experiment starts since quantization will severly reduce № of operations with floating point, while still the calculations will be held. By the way, the same reason will force us to assess **compression rate** after training and validations steps."
   ]
  },
  {
   "cell_type": "code",
   "execution_count": 606,
   "id": "b2628bf1",
   "metadata": {
    "cellId": "gpln16z7i95zkfx8e5aut"
   },
   "outputs": [
    {
     "name": "stdout",
     "output_type": "stream",
     "text": [
      "Model (5907456.0, 3499.0)\n",
      "Base Model (55382016.0, 25387.0)\n",
      "Ratio 9.374934997399896\n"
     ]
    }
   ],
   "source": [
    "item = melspec_train(next(iter(train_loader))[0])\n",
    "model.mode = 'base'\n",
    "attempt = profile(model, (item, ))\n",
    "baseline = profile(base_model, (item, ))\n",
    "clear_output()\n",
    "print('Model', attempt)\n",
    "print('Base Model', baseline)\n",
    "print('Ratio', baseline[0] / attempt[0])"
   ]
  },
  {
   "cell_type": "markdown",
   "id": "12429a00",
   "metadata": {
    "cellId": "jeqge1ri0sf4jmqoliwvfd",
    "execution_id": "1e01d7b1-fc98-460c-a1f2-1f95212f7106"
   },
   "source": [
    "> **Run !**"
   ]
  },
  {
   "cell_type": "code",
   "execution_count": 610,
   "id": "a9e8a565",
   "metadata": {
    "cellId": "72khivtrt181ggq4po8m6u",
    "scrolled": true
   },
   "outputs": [
    {
     "data": {
      "image/png": "[encoded data removed]",
      "text/plain": [
       "<Figure size 432x288 with 1 Axes>"
      ]
     },
     "metadata": {
      "needs_background": "light"
     },
     "output_type": "display_data"
    },
    {
     "data": {
      "image/png": "[encoded data removed]",
      "text/plain": [
       "<Figure size 432x288 with 1 Axes>"
      ]
     },
     "metadata": {
      "needs_background": "light"
     },
     "output_type": "display_data"
    },
    {
     "name": "stdout",
     "output_type": "stream",
     "text": [
      "Metric value 6.8e-05\n",
      "Training has been accomplished for 73.52 minutes\n"
     ]
    }
   ],
   "source": [
    "scheduler_two = lr_scheduler.ReduceLROnPlateau(opt, mode='min', factor=0.8, patience=0, min_lr=0.0002)\n",
    "scheduler_one = lr_scheduler.CosineAnnealingLR(opt, T_max=10, eta_min=0.0005)\n",
    "\n",
    "val_model = train(model, opt, config, 25, history, exp_logger, base_model_qat, \n",
    "                  None, mode)"
   ]
  },
  {
   "attachments": {
    "small_work_exp.png": {
     "image/png": "[encoded data removed]"
    }
   },
   "cell_type": "markdown",
   "id": "6bf82fef",
   "metadata": {},
   "source": [
    "> It seems that the quality of the model is not identical to the one announced (4.57e-5). This due to the following reason: during the notebook check, it was found that logging from this experiment was accidentally lost. Therefore, we  have re-ran the code at some optimizer hyperparameters, close to those used before. If check the logs, we can see that the following model has almost beat the benchmark. Consequently, we just wanted to fix the training time & prove we really elaborated an efficient approach. In case of required provement, we can provide original commit, whice gave us the saved model.\n",
    "\n",
    "![small_work_exp.png](attachment:small_work_exp.png)\n",
    "\n",
    "> The code is reproducible. But we have saved our initial model from this experiment in both dictionary and jit formats. Let's upload the former, convert it via both QAT and dynamic quantization and measure the resulting quality if it is below the benchmark. IF there is a little suspicion, we can always compare announced models' hyperparameters above, which are used in FLOPs calculation, and the uploaded model's architecture."
   ]
  },
  {
   "cell_type": "code",
   "execution_count": 611,
   "id": "3b5ca09a",
   "metadata": {},
   "outputs": [],
   "source": [
    "ttt = copy.deepcopy(model)"
   ]
  },
  {
   "cell_type": "code",
   "execution_count": 632,
   "id": "0ff6cd51",
   "metadata": {
    "scrolled": true
   },
   "outputs": [
    {
     "data": {
      "text/plain": [
       "CRNN(\n",
       "  (quant): Quantize(scale=tensor([0.2312], dtype=torch.float16), zero_point=tensor([90]), dtype=torch.quint8)\n",
       "  (activation): ReLU()\n",
       "  (conv): QuantizedConv2d(1, 4, kernel_size=(7, 18), stride=(5, 12), scale=1.7637978792190552, zero_point=76)\n",
       "  (dequant): DeQuantize()\n",
       "  (flatten): Flatten(start_dim=1, end_dim=2)\n",
       "  (gru): DynamicQuantizedGRU(28, 18, batch_first=True, dropout=0.1)\n",
       "  (attention): Attention(\n",
       "    (energy): Sequential(\n",
       "      (0): DynamicQuantizedLinear(in_features=18, out_features=18, dtype=torch.qint8, qscheme=torch.per_tensor_affine)\n",
       "      (1): Tanh()\n",
       "      (2): DynamicQuantizedLinear(in_features=18, out_features=1, dtype=torch.qint8, qscheme=torch.per_tensor_affine)\n",
       "    )\n",
       "  )\n",
       "  (classifier): DynamicQuantizedLinear(in_features=18, out_features=2, dtype=torch.qint8, qscheme=torch.per_tensor_affine)\n",
       "  (equalizer): DynamicQuantizedLinear(in_features=18, out_features=32, dtype=torch.qint8, qscheme=torch.per_tensor_affine)\n",
       ")"
      ]
     },
     "execution_count": 632,
     "metadata": {},
     "output_type": "execute_result"
    }
   ],
   "source": [
    "model = CRNN(config, mode='light', qat=True).to(config.device)\n",
    "\n",
    "mode = {\n",
    "    'dark kd'   : {'T' : 10, 'alpha' : 0.75}, \n",
    "    'attention' : {'T' : 10, 'alpha' : 0.45},\n",
    "    'post_quant': {'dtype' : 8}\n",
    "}\n",
    "train(model, opt, config, 0, history, exp_logger, base_model, \n",
    "      [None, None, -1], mode)\n",
    "clear_output()\n",
    "\n",
    "\n",
    "model.load_state_dict(torch.load('small_work_exp'))\n",
    "model.equalizer.weight = nn.Parameter(torch.empty((1, 1)))\n",
    "model.equalizer.bias = nn.Parameter(torch.empty((1)))\n",
    "\n",
    "val_model = torch.quantization.convert(model, inplace=False)\n",
    "qconfig = torch.quantization.per_channel_dynamic_qconfig\n",
    "qconfig_dict = dict.fromkeys(['attention', nn.Linear, nn.GRU], qconfig)\n",
    "val_model = torch.quantization.quantize_dynamic(val_model,\n",
    "                                                    dtype=torch.qint8)\n",
    "val_model.half()\n",
    "\n",
    "val_model"
   ]
  },
  {
   "cell_type": "code",
   "execution_count": 40,
   "id": "2633745f",
   "metadata": {},
   "outputs": [
    {
     "name": "stderr",
     "output_type": "stream",
     "text": [
      "100%|█████████████████████████████████████████| 102/102 [00:34<00:00,  2.94it/s]\n"
     ]
    },
    {
     "name": "stdout",
     "output_type": "stream",
     "text": [
      "Quality 4.5759154852041366e-05\n"
     ]
    }
   ],
   "source": [
    "print('Quality', validation(val_model.half(), val_loader, melspec_val, base_config.device, {'base':None}))"
   ]
  },
  {
   "cell_type": "markdown",
   "id": "012e1193",
   "metadata": {},
   "source": [
    "> Finally, we can see our mark for **compression rate** in this experiment. We want to once more repeat the fact that the size of `model.equalizer` is not taken into account since it will be not presented in KWS and can be for sure removed if we'd make a wrapper for validation only."
   ]
  },
  {
   "cell_type": "code",
   "execution_count": 633,
   "id": "634c06a1",
   "metadata": {},
   "outputs": [
    {
     "data": {
      "text/plain": [
       "8.259800563294512"
      ]
     },
     "execution_count": 633,
     "metadata": {},
     "output_type": "execute_result"
    }
   ],
   "source": [
    "import tempfile\n",
    "get_size_in_megabytes(base_model) / (get_size_in_megabytes(val_model))"
   ]
  },
  {
   "cell_type": "code",
   "execution_count": 729,
   "id": "a70260db",
   "metadata": {},
   "outputs": [],
   "source": [
    "quality_flops.append((4.58e-5, 9.37))\n",
    "quality_mem.append((4.58e-5, 8.26))"
   ]
  },
  {
   "cell_type": "markdown",
   "id": "20e9ad7e",
   "metadata": {},
   "source": [
    "## Vth part. Experiment \"Stupid student, Smart teacher\"\n",
    "\n",
    "> Here we thought of making an attempt to optimize the core issue of our teacher in terms of parameters: **GRU**. By changing it to classic **RNN**, we have immediately jumped down in number of operations. Therefore, we increased some model's hyperparameters compared to exp 1, trying to enhance model as an exchange for the first alteration."
   ]
  },
  {
   "cell_type": "code",
   "execution_count": 808,
   "id": "63d43b99",
   "metadata": {
    "scrolled": false
   },
   "outputs": [
    {
     "name": "stdout",
     "output_type": "stream",
     "text": [
      "Experiment model: CRNN(\n",
      "  (quant): QuantStub()\n",
      "  (activation): ReLU()\n",
      "  (conv): Conv2d(1, 4, kernel_size=(7, 18), stride=(5, 12))\n",
      "  (dequant): DeQuantStub()\n",
      "  (flatten): Flatten(start_dim=1, end_dim=2)\n",
      "  (gru): GRU(28, 29, batch_first=True, dropout=0.1)\n",
      "  (attention): Attention(\n",
      "    (energy): Sequential(\n",
      "      (0): Linear(in_features=29, out_features=29, bias=True)\n",
      "      (1): Tanh()\n",
      "      (2): Linear(in_features=29, out_features=1, bias=True)\n",
      "    )\n",
      "  )\n",
      "  (classifier): Linear(in_features=29, out_features=2, bias=True)\n",
      ")\n"
     ]
    }
   ],
   "source": [
    "config = TaskConfig(hidden_size=29, cnn_out_channels=4, kernel_size=(7, 18), stride=(5, 12), gru_num_layers=1)\n",
    "model = CRNN(config, mode='base', qat=True).to(config.device)\n",
    "\n",
    "exp_log_dict = {'json' : 'logger_config.json', 'name' : 'experiment_two'}\n",
    "exp_logger = create_log(exp_log_dict)\n",
    "\n",
    "exp_logger.info('Experiment model: {0}'.format(model))"
   ]
  },
  {
   "cell_type": "markdown",
   "id": "ad375944",
   "metadata": {},
   "source": [
    "> Here we switch modes of the model in order to remove equalizers from the training path and, thus, calculate true **speed rate** of the current student model."
   ]
  },
  {
   "cell_type": "code",
   "execution_count": 494,
   "id": "0b117976",
   "metadata": {},
   "outputs": [
    {
     "name": "stdout",
     "output_type": "stream",
     "text": [
      "Model (5507072.0, 3179.0)\n",
      "Base Model (55382016.0, 25387.0)\n",
      "Ratio 10.056526589810339\n"
     ]
    }
   ],
   "source": [
    "item = melspec_train(next(iter(train_loader))[0])\n",
    "tmp = copy.deepcopy(model)\n",
    "tmp.mode = 'base'\n",
    "attempt = profile(tmp, (item, ))\n",
    "baseline = profile(base_model, (item, ))\n",
    "clear_output()\n",
    "print('Model', attempt)\n",
    "print('Base Model', baseline)\n",
    "print('Ratio', baseline[0] / attempt[0])"
   ]
  },
  {
   "cell_type": "markdown",
   "id": "e8d7744c",
   "metadata": {},
   "source": [
    "> **Run !**"
   ]
  },
  {
   "cell_type": "code",
   "execution_count": 497,
   "id": "adec721d",
   "metadata": {},
   "outputs": [],
   "source": [
    "opt = torch.optim.Adam(\n",
    "    model.parameters(),\n",
    "    lr=0.0007,\n",
    "    weight_decay=config.weight_decay\n",
    ")\n",
    "\n",
    "history = defaultdict(list)"
   ]
  },
  {
   "cell_type": "code",
   "execution_count": 425,
   "id": "77d2636e",
   "metadata": {},
   "outputs": [],
   "source": [
    "scheduler_two = lr_scheduler.ReduceLROnPlateau(opt, mode='min', factor=0.5, patience=0, min_lr=0.0003)\n",
    "scheduler_one = lr_scheduler.CosineAnnealingLR(opt, T_max=10, eta_min=0.0005)"
   ]
  },
  {
   "cell_type": "code",
   "execution_count": 522,
   "id": "a840ce71",
   "metadata": {
    "scrolled": true
   },
   "outputs": [
    {
     "data": {
      "image/png": "[encoded data removed]",
      "text/plain": [
       "<Figure size 432x288 with 1 Axes>"
      ]
     },
     "metadata": {
      "needs_background": "light"
     },
     "output_type": "display_data"
    },
    {
     "data": {
      "image/png": "[encoded data removed]",
      "text/plain": [
       "<Figure size 432x288 with 1 Axes>"
      ]
     },
     "metadata": {
      "needs_background": "light"
     },
     "output_type": "display_data"
    },
    {
     "name": "stdout",
     "output_type": "stream",
     "text": [
      "Metric value 4.6e-05\n",
      "Training has been accomplished for 12.59 minutes\n"
     ]
    }
   ],
   "source": [
    "mode = {\n",
    "    'dark kd'   : {'T' : 10, 'alpha' : 0.85}, \n",
    "    'attention' : {'T' : 10, 'alpha' : 0.25},\n",
    "    'gru'       : {'T' : 10, 'alpha' : 0.75}\n",
    "}\n",
    "\n",
    "val_model = train(model, opt, config, 15, history, exp_logger, base_model_qat, None, mode)"
   ]
  },
  {
   "cell_type": "code",
   "execution_count": 523,
   "id": "519758f8",
   "metadata": {},
   "outputs": [],
   "source": [
    "tt = copy.deepcopy(model)"
   ]
  },
  {
   "cell_type": "markdown",
   "id": "16069f15",
   "metadata": {},
   "source": [
    "> Here we used some tricks to remove equalizers from model, which might appear to be partially compatible with current version of model ('base' mode asks for RNN, not GRU). It can be easilly fixed if needed."
   ]
  },
  {
   "cell_type": "code",
   "execution_count": null,
   "id": "9df19bf6",
   "metadata": {},
   "outputs": [],
   "source": [
    "tft = torch.load('rnn_two_two')\n",
    "tft.pop('equalizer_rnn_2.weight')\n",
    "tft.pop('equalizer_rnn_2.bias')\n",
    "tft.pop('equalizer_rnn_1.weight')\n",
    "tft.pop('equalizer_rnn_1.bias')\n",
    "tft.pop('equalizer.weight')\n",
    "tft.pop('equalizer.bias')"
   ]
  },
  {
   "cell_type": "code",
   "execution_count": 813,
   "id": "60ee8a02",
   "metadata": {
    "scrolled": true
   },
   "outputs": [
    {
     "data": {
      "text/plain": [
       "CRNN(\n",
       "  (quant): Quantize(scale=tensor([0.2310], dtype=torch.float16), zero_point=tensor([90]), dtype=torch.quint8)\n",
       "  (activation): ReLU()\n",
       "  (conv): QuantizedConv2d(1, 4, kernel_size=(7, 18), stride=(5, 12), scale=0.7383055090904236, zero_point=70)\n",
       "  (dequant): DeQuantize()\n",
       "  (flatten): Flatten(start_dim=1, end_dim=2)\n",
       "  (gru): RNN(28, 29, batch_first=True, dropout=0.1)\n",
       "  (attention): Attention(\n",
       "    (energy): Sequential(\n",
       "      (0): DynamicQuantizedLinear(in_features=29, out_features=29, dtype=torch.qint8, qscheme=torch.per_tensor_affine)\n",
       "      (1): Tanh()\n",
       "      (2): DynamicQuantizedLinear(in_features=29, out_features=1, dtype=torch.qint8, qscheme=torch.per_tensor_affine)\n",
       "    )\n",
       "  )\n",
       "  (classifier): DynamicQuantizedLinear(in_features=29, out_features=2, dtype=torch.qint8, qscheme=torch.per_tensor_affine)\n",
       ")"
      ]
     },
     "execution_count": 813,
     "metadata": {},
     "output_type": "execute_result"
    }
   ],
   "source": [
    "check = CRNN(config, mode='base', qat=True).to(config.device)\n",
    "check.gru = nn.RNN(\n",
    "                input_size=check.conv_out_frequency * config.cnn_out_channels,\n",
    "                hidden_size=config.hidden_size,\n",
    "                num_layers=config.gru_num_layers,\n",
    "                dropout=0.1,\n",
    "                bidirectional=config.bidirectional,\n",
    "                batch_first=True\n",
    ")\n",
    "\n",
    "train(check, opt, config, 0, history, exp_logger, base_model, \n",
    "      [None, None, -1], mode)\n",
    "clear_output()\n",
    "\n",
    "check.load_state_dict(tft)\n",
    "\n",
    "val_check = torch.quantization.convert(check, inplace=False)\n",
    "qconfig = torch.quantization.per_channel_dynamic_qconfig\n",
    "qconfig_dict = dict.fromkeys(['attention', nn.Linear, nn.GRU], qconfig)\n",
    "val_check = torch.quantization.quantize_dynamic(val_check,\n",
    "                                                    dtype=torch.qint8)\n",
    "val_check.half()\n",
    "\n",
    "val_check"
   ]
  },
  {
   "cell_type": "markdown",
   "id": "1b6d40fb",
   "metadata": {},
   "source": [
    "> **compression rate**"
   ]
  },
  {
   "cell_type": "code",
   "execution_count": 664,
   "id": "4980deff",
   "metadata": {},
   "outputs": [
    {
     "data": {
      "text/plain": [
       "8.809693918973776"
      ]
     },
     "execution_count": 664,
     "metadata": {},
     "output_type": "execute_result"
    }
   ],
   "source": [
    "get_size_in_megabytes(base_model) / get_size_in_megabytes(val_check)"
   ]
  },
  {
   "cell_type": "code",
   "execution_count": 730,
   "id": "c0650e95",
   "metadata": {},
   "outputs": [],
   "source": [
    "quality_flops.append((4.6e-5, 10.05))\n",
    "quality_mem.append((4.6e-5, 8.81))"
   ]
  },
  {
   "cell_type": "markdown",
   "id": "8025cbb7",
   "metadata": {},
   "source": [
    "## VIth part. Experiment \"What if..?\"\n",
    "\n",
    "> This experiment can be viewed as a precestor of the \"Low & everythin\". While structured prunning showed himself very dreary in terms of efficiency, we decided to reduce role of knowledge distillations, trying to balance it through rates reduction. Now the model is composed of: \n",
    ">\n",
    ">1. **dark KD** with alpha 0.55\n",
    ">\n",
    ">2. **attention KD** with alpha 0.25\n",
    ">\n",
    ">3. **QAT** similar to the one before"
   ]
  },
  {
   "cell_type": "code",
   "execution_count": 694,
   "id": "cb080903",
   "metadata": {
    "scrolled": false
   },
   "outputs": [
    {
     "name": "stdout",
     "output_type": "stream",
     "text": [
      "Experiment model: CRNN(\n",
      "  (quant): QuantStub()\n",
      "  (activation): ReLU()\n",
      "  (conv): Conv2d(1, 5, kernel_size=(7, 20), stride=(4, 10))\n",
      "  (dequant): DeQuantStub()\n",
      "  (flatten): Flatten(start_dim=1, end_dim=2)\n",
      "  (gru): GRU(45, 28, batch_first=True, dropout=0.1)\n",
      "  (attention): Attention(\n",
      "    (energy): Sequential(\n",
      "      (0): Linear(in_features=28, out_features=28, bias=True)\n",
      "      (1): Tanh()\n",
      "      (2): Linear(in_features=28, out_features=1, bias=True)\n",
      "    )\n",
      "  )\n",
      "  (classifier): Linear(in_features=28, out_features=2, bias=True)\n",
      "  (equalizer): Linear(in_features=28, out_features=32, bias=True)\n",
      ")\n"
     ]
    }
   ],
   "source": [
    "config = TaskConfig(hidden_size=28, cnn_out_channels=5, kernel_size=(7, 20), stride=(4, 10), gru_num_layers=1)\n",
    "model = CRNN(config, mode='light', qat=True).to(config.device)\n",
    "\n",
    "exp_log_dict = {'json' : 'logger_config.json', 'name' : 'experiment_three'}\n",
    "exp_logger = create_log(exp_log_dict)\n",
    "\n",
    "exp_logger.info('Experiment model: {0}'.format(model))"
   ]
  },
  {
   "cell_type": "markdown",
   "id": "9414fbdf",
   "metadata": {},
   "source": [
    ">**speed rate**"
   ]
  },
  {
   "cell_type": "code",
   "execution_count": 488,
   "id": "a21ff4c6",
   "metadata": {},
   "outputs": [
    {
     "name": "stdout",
     "output_type": "stream",
     "text": [
      "Model (15683584.0, 7904.0)\n",
      "Base Model (55382016.0, 25387.0)\n",
      "Ratio 3.5312091930007834\n"
     ]
    }
   ],
   "source": [
    "item = melspec_train(next(iter(train_loader))[0])\n",
    "tmp = copy.deepcopy(model)\n",
    "tmp.mode = 'base'\n",
    "attempt = profile(tmp, (item, ))\n",
    "baseline = profile(base_model, (item, ))\n",
    "clear_output()\n",
    "print('Model', attempt)\n",
    "print('Base Model', baseline)\n",
    "print('Ratio', baseline[0] / attempt[0])"
   ]
  },
  {
   "cell_type": "markdown",
   "id": "871a5a15",
   "metadata": {},
   "source": [
    ">**Run !**"
   ]
  },
  {
   "cell_type": "code",
   "execution_count": 489,
   "id": "969bc5fb",
   "metadata": {},
   "outputs": [],
   "source": [
    "opt = torch.optim.Adam(\n",
    "    model.parameters(),\n",
    "    lr=0.0005,\n",
    "    weight_decay=config.weight_decay\n",
    ")\n",
    "\n",
    "mode = {\n",
    "    'dark kd'   : {'T' : 10, 'alpha' : 0.65}, \n",
    "    'attention' : {'T' : 10, 'alpha' : 0.25}\n",
    "}\n",
    "history = defaultdict(list)"
   ]
  },
  {
   "cell_type": "code",
   "execution_count": 490,
   "id": "30a2ca96",
   "metadata": {},
   "outputs": [],
   "source": [
    "scheduler_two = lr_scheduler.ReduceLROnPlateau(opt, mode='min', factor=0.5, patience=0, min_lr=0.0003)\n",
    "scheduler_one = lr_scheduler.CosineAnnealingLR(opt, T_max=10, eta_min=0.0005)"
   ]
  },
  {
   "cell_type": "code",
   "execution_count": 491,
   "id": "2bccce8a",
   "metadata": {
    "scrolled": true
   },
   "outputs": [
    {
     "data": {
      "image/png": "[encoded data removed]",
      "text/plain": [
       "<Figure size 432x288 with 1 Axes>"
      ]
     },
     "metadata": {
      "needs_background": "light"
     },
     "output_type": "display_data"
    },
    {
     "data": {
      "image/png": "[encoded data removed]",
      "text/plain": [
       "<Figure size 432x288 with 1 Axes>"
      ]
     },
     "metadata": {
      "needs_background": "light"
     },
     "output_type": "display_data"
    },
    {
     "name": "stdout",
     "output_type": "stream",
     "text": [
      "Metric value 5e-05\n",
      "Training has been accomplished for 53.63 minutes\n"
     ]
    }
   ],
   "source": [
    "val_model = train(model, opt, config, 25, history, exp_logger, base_model_qat, \n",
    "                  None, mode)"
   ]
  },
  {
   "cell_type": "markdown",
   "id": "8545824a",
   "metadata": {},
   "source": [
    ">**compression rate**"
   ]
  },
  {
   "cell_type": "code",
   "execution_count": 699,
   "id": "63d0edff",
   "metadata": {},
   "outputs": [
    {
     "data": {
      "text/plain": [
       "<All keys matched successfully>"
      ]
     },
     "execution_count": 699,
     "metadata": {},
     "output_type": "execute_result"
    }
   ],
   "source": [
    "model = CRNN(config, mode='base', qat=True).to(config.device)\n",
    "train(model, opt, config, 0, history, exp_logger, base_model_qat, \n",
    "                  None, mode)\n",
    "clear_output()\n",
    "\n",
    "dct = torch.load('dark_att_three')\n",
    "dct.pop('equalizer.weight')\n",
    "dct.pop('equalizer.bias')\n",
    "\n",
    "model.load_state_dict(dct)"
   ]
  },
  {
   "cell_type": "code",
   "execution_count": 701,
   "id": "4247d4c8",
   "metadata": {},
   "outputs": [
    {
     "data": {
      "text/plain": [
       "2.5765541150211333"
      ]
     },
     "execution_count": 701,
     "metadata": {},
     "output_type": "execute_result"
    }
   ],
   "source": [
    "get_size_in_megabytes(base_model) / (get_size_in_megabytes(model))"
   ]
  },
  {
   "cell_type": "code",
   "execution_count": 731,
   "id": "706afccd",
   "metadata": {},
   "outputs": [],
   "source": [
    "quality_flops.append((5e-5, 3.5))\n",
    "quality_mem.append((5e-5, 2.6))"
   ]
  },
  {
   "cell_type": "markdown",
   "id": "731eda27",
   "metadata": {},
   "source": [
    "## VIIth part. Experiment \"MC KD\"\n",
    "\n",
    "> So, as we approach the bottom of tools usage, let's test if it is possible to reach benchmark on dark KD only. \n",
    ">\n",
    ">1. **dark KD** with alpha 0.75"
   ]
  },
  {
   "cell_type": "code",
   "execution_count": 562,
   "id": "2545c968",
   "metadata": {},
   "outputs": [],
   "source": [
    "exp_log_dict = {'json' : 'logger_config.json', 'name' : 'experiment_four'}\n",
    "exp_logger = create_log(exp_log_dict)"
   ]
  },
  {
   "cell_type": "code",
   "execution_count": 799,
   "id": "3df9758e",
   "metadata": {},
   "outputs": [
    {
     "name": "stdout",
     "output_type": "stream",
     "text": [
      "Experiment model: CRNN(\n",
      "  (conv): Conv2d(1, 5, kernel_size=(5, 20), stride=(4, 10))\n",
      "  (flatten): Flatten(start_dim=1, end_dim=2)\n",
      "  (gru): GRU(45, 18, batch_first=True, dropout=0.1)\n",
      "  (attention): Attention(\n",
      "    (energy): Sequential(\n",
      "      (0): Linear(in_features=18, out_features=18, bias=True)\n",
      "      (1): Tanh()\n",
      "      (2): Linear(in_features=18, out_features=1, bias=True)\n",
      "    )\n",
      "  )\n",
      "  (classifier): Linear(in_features=18, out_features=2, bias=True)\n",
      "  (equalizer): Linear(in_features=18, out_features=32, bias=True)\n",
      ")\n"
     ]
    }
   ],
   "source": [
    "config = TaskConfig(hidden_size=18, cnn_out_channels=5, kernel_size=(5, 20), stride=(4, 10), gru_num_layers=1)\n",
    "model = CRNN(config, mode='light').to(config.device)\n",
    "\n",
    "exp_logger.info('Experiment model: {0}'.format(model))"
   ]
  },
  {
   "cell_type": "markdown",
   "id": "73b20656",
   "metadata": {},
   "source": [
    ">**speed rate**"
   ]
  },
  {
   "cell_type": "code",
   "execution_count": 798,
   "id": "e2567cc9",
   "metadata": {},
   "outputs": [
    {
     "name": "stdout",
     "output_type": "stream",
     "text": [
      "Model (9771264.0, 4414.0)\n",
      "Base Model (55382016.0, 25387.0)\n",
      "Ratio 5.667845633891377\n"
     ]
    }
   ],
   "source": [
    "model.mode = 'base'\n",
    "item = melspec_train(next(iter(train_loader))[0])\n",
    "attempt = profile(model, (item, ))\n",
    "baseline = profile(base_model, (item, ))\n",
    "\n",
    "clear_output()\n",
    "print('Model', attempt)\n",
    "print('Base Model', baseline)\n",
    "print('Ratio', baseline[0] / attempt[0])"
   ]
  },
  {
   "cell_type": "markdown",
   "id": "51a65e43",
   "metadata": {},
   "source": [
    "> Sometimes there might be issues if running `load_state_dict` after profile since new attributes are appended to the model. Thusm we recommend to avoid such cases."
   ]
  },
  {
   "cell_type": "code",
   "execution_count": 800,
   "id": "1e618236",
   "metadata": {},
   "outputs": [],
   "source": [
    "model.mode = 'light'"
   ]
  },
  {
   "cell_type": "code",
   "execution_count": null,
   "id": "75b2fbc7",
   "metadata": {},
   "outputs": [],
   "source": [
    "mode = {\n",
    "    'dark kd'   : {'T' : 10, 'alpha' : 0.75}\n",
    "}\n",
    "history = defaultdict(list)\n",
    "\n",
    "opt = torch.optim.Adam(\n",
    "    model.parameters(),\n",
    "    lr=0.0005,\n",
    "    weight_decay=config.weight_decay\n",
    ")\n",
    "\n",
    "train(model, opt, config, 25, history, exp_logger, base_model, None, mode)"
   ]
  },
  {
   "attachments": {
    "download%20%285%29.png": {
     "image/png": "[encoded data removed]"
    }
   },
   "cell_type": "markdown",
   "id": "1f3c8abd",
   "metadata": {},
   "source": [
    "![download%20%285%29.png](attachment:download%20%285%29.png)"
   ]
  },
  {
   "cell_type": "code",
   "execution_count": 805,
   "id": "88d3127c",
   "metadata": {},
   "outputs": [
    {
     "data": {
      "text/plain": [
       "<All keys matched successfully>"
      ]
     },
     "execution_count": 805,
     "metadata": {},
     "output_type": "execute_result"
    }
   ],
   "source": [
    "model.load_state_dict(torch.load('dark_kd_four_one'))"
   ]
  },
  {
   "cell_type": "code",
   "execution_count": 806,
   "id": "4c00a391",
   "metadata": {},
   "outputs": [
    {
     "data": {
      "text/plain": [
       "4.46263623277812"
      ]
     },
     "execution_count": 806,
     "metadata": {},
     "output_type": "execute_result"
    }
   ],
   "source": [
    "get_size_in_megabytes(base_model) / (get_size_in_megabytes(model))"
   ]
  },
  {
   "cell_type": "code",
   "execution_count": 732,
   "id": "a99c340c",
   "metadata": {},
   "outputs": [],
   "source": [
    "quality_flops.append((5.4e-5, 5.67))\n",
    "quality_mem.append((5.4e-5, 4.46))"
   ]
  },
  {
   "cell_type": "markdown",
   "id": "a50b0016",
   "metadata": {},
   "source": [
    "## VIIIth part. Graphs"
   ]
  },
  {
   "cell_type": "code",
   "execution_count": 733,
   "id": "90ed573e",
   "metadata": {},
   "outputs": [
    {
     "data": {
      "text/plain": [
       "((4.58e-05, 4.6e-05, 5e-05, 5.4e-05), (9.37, 10.05, 3.5, 5.67))"
      ]
     },
     "execution_count": 733,
     "metadata": {},
     "output_type": "execute_result"
    }
   ],
   "source": [
    "x, y = zip(*quality_flops)\n",
    "x, y"
   ]
  },
  {
   "cell_type": "code",
   "execution_count": 758,
   "id": "cff01de2",
   "metadata": {},
   "outputs": [
    {
     "data": {
      "image/png": "[encoded data removed]",
      "text/plain": [
       "<Figure size 1152x576 with 2 Axes>"
      ]
     },
     "metadata": {},
     "output_type": "display_data"
    }
   ],
   "source": [
    "plt.style.use('bmh')\n",
    "x, y = zip(*quality_flops)\n",
    "fig, ax = plt.subplots(nrows=1, ncols=2, figsize=(16, 8))\n",
    "ax[0].scatter(x, y)\n",
    "ax[0].grid()\n",
    "for label, x, y in zip(['first', 'second', 'third', 'fourth'], x, y):\n",
    "    ax[0].annotate(\n",
    "        label,\n",
    "        xy=(x, y), xytext=(-20, 20),\n",
    "        textcoords='offset points', ha='left', va='bottom',\n",
    "        bbox=dict(boxstyle='round,pad=0.5', fc='yellow', alpha=0.5),\n",
    "        arrowprops=dict(arrowstyle = '->', connectionstyle='arc3,rad=0'))\n",
    "ax[0].axvline(5.5e-5, c='r')\n",
    "ax[0].set(xlabel='quality', ylabel='speed rate', title='Metric-FLOPs')\n",
    "\n",
    "x, y = zip(*quality_mem)\n",
    "ax[1].scatter(x, y)\n",
    "ax[1].scatter(x, y)\n",
    "ax[1].grid()\n",
    "for label, x, y in zip(['first', 'second', 'third', 'fourth'], x, y):\n",
    "    ax[1].annotate(\n",
    "        label,\n",
    "        xy=(x, y), xytext=(-20, 20),\n",
    "        textcoords='offset points', ha='left', va='bottom',\n",
    "        bbox=dict(boxstyle='round,pad=0.5', fc='orange', alpha=0.5),\n",
    "        arrowprops=dict(arrowstyle = '->', connectionstyle='arc3,rad=0'))\n",
    "ax[1].axvline(5.5e-5, c='r')\n",
    "ax[1].set(xlabel='quality', ylabel='compression rate', title='Metric-Memory')\n",
    "plt.show()"
   ]
  },
  {
   "cell_type": "markdown",
   "id": "88f203c5",
   "metadata": {},
   "source": [
    "# Streaming\n",
    "\n",
    "## Ist part. KWS model\n",
    "\n",
    "> The architecture implies three key blocks: `LogMelspec` - `CRNN` - Prediction. We create a new streaming object, slightly altering the `LogMelspec` class for the inference mode. Now, the padding is disabled. We also announce `max_window_length` & `step_size` for the purpose of sliding through audio input and restricting class's buffers. By the way, we use three separate buffers:\n",
    ">\n",
    ">    1. `audio_buffer` for storing last bins of previous frames' audio in order to create spectrograms, which in turn use sliding windows\n",
    ">\n",
    ">    2. `conv_buffer` allows to bound convolution's receptive fields of previous frames and novel one.\n",
    ">    3. `gru_buffer` checks if the window is full & start the final stage of model."
   ]
  },
  {
   "cell_type": "code",
   "execution_count": 794,
   "id": "70d5ad65",
   "metadata": {},
   "outputs": [],
   "source": [
    "class KWS(nn.Module):\n",
    "    def __init__(self, model, config, melspec_val, max_window_length=30, step=16):\n",
    "        super(KWS, self).__init__()\n",
    "        self.conv = model.conv\n",
    "        self.flatten = nn.Flatten(start_dim=1, end_dim=2)\n",
    "        self.gru = model.gru\n",
    "        self.attention = Attention(config.hidden_size)\n",
    "        self.attention.load_state_dict(model.attention.state_dict())\n",
    "        self.classifier = model.classifier\n",
    "        \n",
    "        self.max_window_length = max_window_length\n",
    "        self.step = step\n",
    "        self.saved_hid = None\n",
    "        \n",
    "        self.melspec = torchaudio.transforms.MelSpectrogram(\n",
    "                sample_rate=config.sample_rate,\n",
    "                n_fft=400,\n",
    "                win_length=400,\n",
    "                hop_length=160,\n",
    "                n_mels=config.n_mels,\n",
    "                center=False\n",
    "            ).to(config.device)\n",
    "        self.audio_buffer = None\n",
    "        self.conv_buffer = None\n",
    "        self.gru_buffer = None\n",
    "    \n",
    "        self.device = config.device\n",
    "        self.counter = 0\n",
    "    \n",
    "    def spec_call(self, wave):\n",
    "         return torch.log(self.melspec(wave.to(self.device)).clamp_(min=1e-9, max=1e9))\n",
    "    \n",
    "    def forward(self, wave, verbosity=False):\n",
    "        return self.process(wave, verbosity)\n",
    "        \n",
    "    \n",
    "    def process(self, wave, verbosity):\n",
    "        if verbosity:\n",
    "            if self.audio_buffer is not None: \n",
    "                print('audio_buffer', self.audio_buffer.shape, 'wave', wave.shape)\n",
    "            else:\n",
    "                print('wave', wave.shape)\n",
    "            \n",
    "            \n",
    "        spectro = self.spec_call(torch.cat([self.audio_buffer, wave], dim=1)) if self.audio_buffer is not None else self.spec_call(wave)\n",
    "        spectro = spectro.unsqueeze(1)\n",
    "        self.audio_buffer = wave[:, -400 + 160:]\n",
    "\n",
    "        if verbosity:\n",
    "            if self.conv_buffer is not None: \n",
    "                print('conv_buffer', self.conv_buffer.shape, 'spectro', spectro.shape)\n",
    "            else:\n",
    "                print('spectro', spectro.shape)\n",
    "\n",
    "            \n",
    "        input = torch.cat([self.conv_buffer, spectro], dim=-1) if self.conv_buffer is not None else spectro\n",
    "        if verbosity: print('input', input.shape)\n",
    "        \n",
    "        if input.shape[-1] < self.conv.kernel_size[1]:\n",
    "            self.conv_buffer = input\n",
    "            return 0\n",
    "        self.conv_buffer = spectro[:, :, :, -self.conv.kernel_size[1] + self.conv.stride[1]:]\n",
    "        \n",
    "        conv_output = self.conv(input)\n",
    "        flat_output = self.flatten(conv_output).transpose(-1, -2)\n",
    "        if verbosity: print('conv_out', conv_output.shape)\n",
    "        \n",
    "        all_together = torch.cat([self.gru_buffer, flat_output], dim=1) if self.gru_buffer is not None else flat_output\n",
    "\n",
    "        if all_together.shape[1] < self.max_window_length:\n",
    "            self.gru_buffer = all_together\n",
    "            return 0\n",
    "           \n",
    "        if verbosity:\n",
    "            if self.gru_buffer is not None: \n",
    "                print('gru_buffer', self.gru_buffer.shape, 'flat', flat_output.shape)\n",
    "            else:\n",
    "                print('flat', flat_output.shape)\n",
    "        \n",
    "        self.gru_buffer = all_together[:, (self.step + self.conv.kernel_size[1] - self.conv.stride[1]) // self.conv.kernel_size[1]  :]\n",
    "        gru_output, self.saved_hid = self.gru(all_together, self.saved_hid)\n",
    "        \n",
    "        contex_vector = self.attention(gru_output)\n",
    "        output = self.classifier(contex_vector)\n",
    "        \n",
    "        prob = torch.softmax(output, dim=-1)\n",
    "        if prob[0][1].item() > 0.7: \n",
    "            self.saved_hid = torch.zeros(self.saved_hid.shape)\n",
    "        return prob[0][1].item()"
   ]
  },
  {
   "cell_type": "code",
   "execution_count": 795,
   "id": "60628107",
   "metadata": {},
   "outputs": [],
   "source": [
    "kws = torch.jit.load('third_kws')"
   ]
  },
  {
   "cell_type": "code",
   "execution_count": 786,
   "id": "c8b8db00",
   "metadata": {},
   "outputs": [],
   "source": [
    "torch.inference_mode()\n",
    "\n",
    "wav, sr = torchaudio.load('glue.wav')\n",
    "wav = wav.sum(dim=0)\n",
    "\n",
    "lst = []\n",
    "waving = torch.split(wav, 160 * 30, 0)\n",
    "for i in range(wav.shape[0] // (160 * 30)):\n",
    "    wave = waving[i].to(TaskConfig.device)\n",
    "    out = kws(wave.unsqueeze(0),)\n",
    "    lst.append(out)"
   ]
  },
  {
   "cell_type": "markdown",
   "id": "bea44afa",
   "metadata": {},
   "source": [
    "## IInd part. Graph"
   ]
  },
  {
   "cell_type": "code",
   "execution_count": 796,
   "id": "b6454da0",
   "metadata": {},
   "outputs": [
    {
     "data": {
      "image/png": "[encoded data removed]",
      "text/plain": [
       "<Figure size 432x288 with 1 Axes>"
      ]
     },
     "metadata": {},
     "output_type": "display_data"
    }
   ],
   "source": [
    "plt.axhline(0.5, c='r')\n",
    "plt.axvline(5.5, c='r')\n",
    "plt.plot(np.arange(0, 16, 16 / len(lst)), lst)\n",
    "plt.title('Probabilities during streaming')\n",
    "plt.show()"
   ]
  }
 ],
 "metadata": {
  "kernelspec": {
   "display_name": "Python 3 (ipykernel)",
   "language": "python",
   "name": "python3"
  },
  "language_info": {
   "codemirror_mode": {
    "name": "ipython",
    "version": 3
   },
   "file_extension": ".py",
   "mimetype": "text/x-python",
   "name": "python",
   "nbconvert_exporter": "python",
   "pygments_lexer": "ipython3",
   "version": "3.9.15"
  },
  "notebookId": "a2aedbe3-38b8-428e-97c0-4930c3eaf610",
  "notebookPath": "KWS/kws_notebook.ipynb"
 },
 "nbformat": 4,
 "nbformat_minor": 5
}
